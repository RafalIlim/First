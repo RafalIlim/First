{
  "nbformat": 4,
  "nbformat_minor": 0,
  "metadata": {
    "colab": {
      "provenance": [],
      "collapsed_sections": [],
      "authorship_tag": "ABX9TyOINgmutRDmJ35KYjnAho0D",
      "include_colab_link": true
    },
    "kernelspec": {
      "name": "python3",
      "display_name": "Python 3"
    },
    "language_info": {
      "name": "python"
    },
    "accelerator": "TPU",
    "gpuClass": "standard"
  },
  "cells": [
    {
      "cell_type": "markdown",
      "metadata": {
        "id": "view-in-github",
        "colab_type": "text"
      },
      "source": [
        "<a href=\"https://colab.research.google.com/github/RafalIlim/First/blob/main/intro.ipynb\" target=\"_parent\"><img src=\"https://colab.research.google.com/assets/colab-badge.svg\" alt=\"Open In Colab\"/></a>"
      ]
    },
    {
      "cell_type": "code",
      "execution_count": 1,
      "metadata": {
        "colab": {
          "base_uri": "https://localhost:8080/"
        },
        "id": "PAif3GRbq8t2",
        "outputId": "c2b39923-83af-4711-d612-ac4ff848be9e"
      },
      "outputs": [
        {
          "output_type": "stream",
          "name": "stdout",
          "text": [
            "hello! 123\n"
          ]
        }
      ],
      "source": [
        "print(\"hello! 123\")"
      ]
    },
    {
      "cell_type": "code",
      "source": [
        "### Tekst"
      ],
      "metadata": {
        "id": "GfahTXAzrPE1"
      },
      "execution_count": null,
      "outputs": []
    },
    {
      "cell_type": "code",
      "source": [],
      "metadata": {
        "id": "7nxQFmk3rZ9Z"
      },
      "execution_count": null,
      "outputs": []
    },
    {
      "cell_type": "markdown",
      "source": [],
      "metadata": {
        "id": "7xsgJz-Kro2w"
      }
    },
    {
      "cell_type": "code",
      "source": [],
      "metadata": {
        "id": "AESvkpy_rpU2"
      },
      "execution_count": null,
      "outputs": []
    }
  ]
}